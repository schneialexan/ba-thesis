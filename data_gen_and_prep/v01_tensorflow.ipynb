{
 "cells": [
  {
   "cell_type": "markdown",
   "metadata": {},
   "source": [
    "Die Bachelorarbeit beschäftigt sich mit inkompressiblen Strömungen, wie sie in einer Vielzahl in industriellen Anwendungen sowie umweltrelevanten Problemen auftreten. Dabei erfordert die Lösung der Navier-Stokes-Gleichungen einen erheblichen Zeit- und Rechenaufwand. Ziel der Arbeit ist es, mittels «echten» Simulationsergebnissen verschiedener Strömungsszenarien ein Deep Learning-Netz anzulernen, sodass für neue Szenarien (bspw. mit alternativen Geometrien, Randbedingungen oder Reynolds-Zahlen) die Ergebnisse durch das Netz vorhergesagt werden können. Zur Einordnung der damit erzielten Qualität sind die vorhergesagten Ergebnisse mit den gerechneten Ergebnissen aus einem Strömungscode zu vergleichen.\n",
    "Dazu soll ebenfalls evaluiert werden, welche Szenarien, d.h. welche Änderungen (Geometrie, Randbedingungen, Strömungsparameter) sich besonders gut vorhersagen lassen und welche nicht."
   ]
  },
  {
   "cell_type": "markdown",
   "metadata": {},
   "source": [
    "### V1.01: Only 1 dummy image"
   ]
  },
  {
   "cell_type": "code",
   "execution_count": 25,
   "metadata": {},
   "outputs": [],
   "source": [
    "import numpy as np\n",
    "import tensorflow as tf\n",
    "from tensorflow.keras import layers, models\n",
    "import matplotlib.pyplot as plt"
   ]
  },
  {
   "cell_type": "code",
   "execution_count": 26,
   "metadata": {},
   "outputs": [],
   "source": [
    "def create_model(input_shape, num_outputs):\n",
    "    # Define input layers\n",
    "    image_input = layers.Input(shape=input_shape, name='image_input')\n",
    "    reynolds_input = layers.Input(shape=(1,), name='reynolds_input')\n",
    "\n",
    "    # Image branch\n",
    "    x = layers.Conv2D(32, (3, 3), activation='relu')(image_input)\n",
    "    x = layers.MaxPooling2D((2, 2))(x)\n",
    "    x = layers.Conv2D(64, (3, 3), activation='relu')(x)\n",
    "    x = layers.MaxPooling2D((2, 2))(x)\n",
    "    x = layers.Conv2D(64, (3, 3), activation='relu')(x)\n",
    "    x = layers.Flatten()(x)\n",
    "    x = layers.Dense(64, activation='relu')(x)\n",
    "\n",
    "    # Combine image and reynolds inputs\n",
    "    combined_input = layers.concatenate([x, reynolds_input])\n",
    "\n",
    "    # Output layers\n",
    "    outputs = []\n",
    "    for i in range(num_outputs):\n",
    "        outputs.append(layers.Dense(64*64, activation='sigmoid', name=f'output_{i}')(combined_input))\n",
    "\n",
    "    # Reshape outputs to image size\n",
    "    reshaped_outputs = [layers.Reshape((64, 64, 1), name=f'reshaped_output_{i}')(output) for i, output in enumerate(outputs)]\n",
    "\n",
    "    # Define model\n",
    "    model = models.Model(inputs=[image_input, reynolds_input], outputs=reshaped_outputs)\n",
    "    return model"
   ]
  },
  {
   "cell_type": "code",
   "execution_count": 27,
   "metadata": {},
   "outputs": [
    {
     "name": "stdout",
     "output_type": "stream",
     "text": [
      "Epoch 1/10\n"
     ]
    },
    {
     "ename": "SystemError",
     "evalue": "\\Objects\\listobject.c:337: bad argument to internal function",
     "output_type": "error",
     "traceback": [
      "\u001b[1;31m---------------------------------------------------------------------------\u001b[0m",
      "\u001b[1;31mSystemError\u001b[0m                               Traceback (most recent call last)",
      "Cell \u001b[1;32mIn[27], line 16\u001b[0m\n\u001b[0;32m     13\u001b[0m model\u001b[38;5;241m.\u001b[39mcompile(optimizer\u001b[38;5;241m=\u001b[39m\u001b[38;5;124m'\u001b[39m\u001b[38;5;124madam\u001b[39m\u001b[38;5;124m'\u001b[39m, loss\u001b[38;5;241m=\u001b[39m\u001b[38;5;124m'\u001b[39m\u001b[38;5;124mmse\u001b[39m\u001b[38;5;124m'\u001b[39m)\n\u001b[0;32m     15\u001b[0m \u001b[38;5;66;03m# Train the model\u001b[39;00m\n\u001b[1;32m---> 16\u001b[0m model\u001b[38;5;241m.\u001b[39mfit([input_images, input_reynolds], output_data, epochs\u001b[38;5;241m=\u001b[39m\u001b[38;5;241m10\u001b[39m, batch_size\u001b[38;5;241m=\u001b[39m\u001b[38;5;241m32\u001b[39m, validation_split\u001b[38;5;241m=\u001b[39m\u001b[38;5;241m0.2\u001b[39m)\n",
      "File \u001b[1;32mc:\\Users\\alexa\\miniconda3\\envs\\ba\\Lib\\site-packages\\keras\\src\\utils\\traceback_utils.py:123\u001b[0m, in \u001b[0;36mfilter_traceback.<locals>.error_handler\u001b[1;34m(*args, **kwargs)\u001b[0m\n\u001b[0;32m    120\u001b[0m     filtered_tb \u001b[38;5;241m=\u001b[39m _process_traceback_frames(e\u001b[38;5;241m.\u001b[39m__traceback__)\n\u001b[0;32m    121\u001b[0m     \u001b[38;5;66;03m# To get the full stack trace, call:\u001b[39;00m\n\u001b[0;32m    122\u001b[0m     \u001b[38;5;66;03m# `keras.config.disable_traceback_filtering()`\u001b[39;00m\n\u001b[1;32m--> 123\u001b[0m     \u001b[38;5;28;01mraise\u001b[39;00m e\u001b[38;5;241m.\u001b[39mwith_traceback(filtered_tb) \u001b[38;5;28;01mfrom\u001b[39;00m \u001b[38;5;28;01mNone\u001b[39;00m\n\u001b[0;32m    124\u001b[0m \u001b[38;5;28;01mfinally\u001b[39;00m:\n\u001b[0;32m    125\u001b[0m     \u001b[38;5;28;01mdel\u001b[39;00m filtered_tb\n",
      "File \u001b[1;32mc:\\Users\\alexa\\miniconda3\\envs\\ba\\Lib\\site-packages\\keras\\src\\backend\\tensorflow\\trainer.py:117\u001b[0m, in \u001b[0;36mTensorFlowTrainer.make_train_function.<locals>.one_step_on_iterator\u001b[1;34m(iterator)\u001b[0m\n\u001b[0;32m    115\u001b[0m \u001b[38;5;250m\u001b[39m\u001b[38;5;124;03m\"\"\"Runs a single training step given a Dataset iterator.\"\"\"\u001b[39;00m\n\u001b[0;32m    116\u001b[0m data \u001b[38;5;241m=\u001b[39m \u001b[38;5;28mnext\u001b[39m(iterator)\n\u001b[1;32m--> 117\u001b[0m outputs \u001b[38;5;241m=\u001b[39m \u001b[38;5;28mself\u001b[39m\u001b[38;5;241m.\u001b[39mdistribute_strategy\u001b[38;5;241m.\u001b[39mrun(\n\u001b[0;32m    118\u001b[0m     one_step_on_data, args\u001b[38;5;241m=\u001b[39m(data,)\n\u001b[0;32m    119\u001b[0m )\n\u001b[0;32m    120\u001b[0m outputs \u001b[38;5;241m=\u001b[39m reduce_per_replica(\n\u001b[0;32m    121\u001b[0m     outputs,\n\u001b[0;32m    122\u001b[0m     \u001b[38;5;28mself\u001b[39m\u001b[38;5;241m.\u001b[39mdistribute_strategy,\n\u001b[0;32m    123\u001b[0m     reduction\u001b[38;5;241m=\u001b[39m\u001b[38;5;28mself\u001b[39m\u001b[38;5;241m.\u001b[39mdistribute_reduction_method,\n\u001b[0;32m    124\u001b[0m )\n\u001b[0;32m    125\u001b[0m \u001b[38;5;28;01mreturn\u001b[39;00m outputs\n",
      "\u001b[1;31mSystemError\u001b[0m: \\Objects\\listobject.c:337: bad argument to internal function"
     ]
    }
   ],
   "source": [
    "# Generate dummy data\n",
    "num_samples = 1000\n",
    "image_shape = (64, 64, 3)\n",
    "input_reynolds = np.random.uniform(1, 1000, size=(num_samples, 1))\n",
    "input_images = np.random.rand(num_samples, *image_shape)\n",
    "\n",
    "# Generate dummy output data\n",
    "num_outputs = 3\n",
    "output_data = [np.random.rand(num_samples, 64, 64, 1) for _ in range(num_outputs)]\n",
    "\n",
    "# Create and compile the model\n",
    "model = create_model(image_shape, num_outputs)\n",
    "model.compile(optimizer='adam', loss='mse')\n",
    "\n",
    "# Train the model\n",
    "model.fit([input_images, input_reynolds], output_data, epochs=10, batch_size=32, validation_split=0.2)"
   ]
  },
  {
   "cell_type": "code",
   "execution_count": null,
   "metadata": {},
   "outputs": [],
   "source": [
    "# Function to plot input image and predicted flow scenario\n",
    "def plot_input_and_prediction(input_image, predicted_flow_scenario):\n",
    "    fig, axes = plt.subplots(1, 2, figsize=(12, 6))\n",
    "\n",
    "    # Plot input image\n",
    "    axes[0].imshow(input_image)\n",
    "    axes[0].set_title('Input Image')\n",
    "\n",
    "    # Plot predicted flow scenario\n",
    "    for i, prediction in enumerate(predicted_flow_scenario):\n",
    "        axes[1].imshow(prediction.squeeze(), cmap='jet', alpha=0.5, label=f'Prediction {i+1}')\n",
    "    axes[1].set_title('Predicted Flow Scenario')\n",
    "    axes[1].legend()\n",
    "\n",
    "    plt.show()\n"
   ]
  },
  {
   "cell_type": "code",
   "execution_count": null,
   "metadata": {},
   "outputs": [],
   "source": [
    "new_reynolds_number = np.array([[500]])\n",
    "new_image = np.random.rand(1, *image_shape)\n",
    "predicted_flow_scenario = model.predict([new_image, new_reynolds_number])\n",
    "plot_input_and_prediction(new_image.squeeze(), predicted_flow_scenario)"
   ]
  },
  {
   "cell_type": "markdown",
   "metadata": {},
   "source": [
    "### v1.02: with 3 dummy images (for pressure, $u_{vel}$ and $v_{vel}$)"
   ]
  },
  {
   "cell_type": "code",
   "execution_count": null,
   "metadata": {},
   "outputs": [],
   "source": [
    "import numpy as np\n",
    "import tensorflow as tf\n",
    "from tensorflow.keras import layers, models\n",
    "\n",
    "# Define a multi-input, multi-output CNN model\n",
    "def create_model(input_shape, num_outputs):\n",
    "    # Define input layers\n",
    "    pressure_input = layers.Input(shape=input_shape, name='pressure_input')\n",
    "    u_velocity_input = layers.Input(shape=input_shape, name='u_velocity_input')\n",
    "    v_velocity_input = layers.Input(shape=input_shape, name='v_velocity_input')\n",
    "    reynolds_input = layers.Input(shape=(1,), name='reynolds_input')\n",
    "\n",
    "    # Stack input layers\n",
    "    reynolds_input_reshaped = layers.Reshape((1, 1, 1))(reynolds_input)\n",
    "    reynolds_input_tiled = layers.UpSampling2D(size=(input_shape[0], input_shape[1]))(reynolds_input_reshaped)\n",
    "\n",
    "    combined_input = layers.concatenate([pressure_input, u_velocity_input, v_velocity_input, reynolds_input_tiled], axis=-1)\n",
    "\n",
    "    # Common CNN layers\n",
    "    x = layers.Conv2D(32, (3, 3), activation='relu')(combined_input)\n",
    "    x = layers.MaxPooling2D((2, 2))(x)\n",
    "    x = layers.Conv2D(64, (3, 3), activation='relu')(x)\n",
    "    x = layers.MaxPooling2D((2, 2))(x)\n",
    "    x = layers.Conv2D(64, (3, 3), activation='relu')(x)\n",
    "    x = layers.Flatten()(x)\n",
    "    x = layers.Dense(64, activation='relu')(x)\n",
    "\n",
    "    # Output layers\n",
    "    outputs = []\n",
    "    for i in range(num_outputs):\n",
    "        outputs.append(layers.Dense(64*64, activation='sigmoid', name=f'output_{i}')(x))\n",
    "\n",
    "    print(input_shape)\n",
    "    # Reshape outputs to image size\n",
    "    reshaped_outputs = [layers.Reshape((128, 128, 1), name=f'reshaped_output_{i}')(output) for i, output in enumerate(outputs)]\n",
    "\n",
    "    # Define model\n",
    "    model = models.Model(inputs=[pressure_input, u_velocity_input, v_velocity_input, reynolds_input], outputs=reshaped_outputs)\n",
    "    return model\n",
    "\n",
    "# Generate dummy data\n",
    "num_samples = 1000\n",
    "image_shape = (128, 128, 1)  # assuming grayscale images\n",
    "input_reynolds = np.random.uniform(1, 1000, size=(num_samples, 1))\n",
    "input_pressure = np.random.rand(num_samples, *image_shape)\n",
    "input_u_velocity = np.random.rand(num_samples, *image_shape)\n",
    "input_v_velocity = np.random.rand(num_samples, *image_shape)\n",
    "\n",
    "# Generate dummy output data\n",
    "num_outputs = 3\n",
    "output_data = [np.random.rand(num_samples, *image_shape) for _ in range(num_outputs)]\n",
    "\n",
    "# Create and compile the model\n",
    "model = create_model(image_shape, num_outputs)\n",
    "model.compile(optimizer='adam', loss='mse')\n",
    "\n",
    "# Train the model\n",
    "model.fit([input_pressure, input_u_velocity, input_v_velocity, input_reynolds], [input_pressure, input_u_velocity, input_v_velocity], epochs=10, batch_size=32, validation_split=0.2)\n"
   ]
  },
  {
   "cell_type": "code",
   "execution_count": null,
   "metadata": {},
   "outputs": [],
   "source": [
    "import matplotlib.pyplot as plt\n",
    "\n",
    "# Function to plot input images and predicted flow scenarios\n",
    "def plot_input_and_predictions(input_images, predicted_flow_scenarios):\n",
    "    fig, axes = plt.subplots(2, 3, figsize=(15, 10))\n",
    "\n",
    "    # Plot input images\n",
    "    titles = ['Pressure', 'U Velocity', 'V Velocity']\n",
    "    for i in range(len(input_images)):\n",
    "        axes[0, i].imshow(input_images[i].squeeze(), cmap='jet')\n",
    "        axes[0, i].set_title(titles[i])\n",
    "        axes[0, i].axis('off')\n",
    "\n",
    "    # Plot predicted flow scenarios\n",
    "    for i, predicted_flow_scenario in enumerate(predicted_flow_scenarios):\n",
    "        axes[1, i].imshow(predicted_flow_scenario.squeeze(), cmap='jet')\n",
    "        axes[1, i].set_title(f'Predicted {titles[i]}')\n",
    "        axes[1, i].axis('off')\n",
    "\n",
    "    plt.tight_layout()\n",
    "    plt.show()"
   ]
  },
  {
   "cell_type": "code",
   "execution_count": null,
   "metadata": {},
   "outputs": [],
   "source": [
    "\n",
    "# Example usage for prediction\n",
    "new_reynolds_number = np.array([[100]])\n",
    "new_pressure = np.random.rand(1, *image_shape)\n",
    "new_u_velocity = np.random.rand(1, *image_shape)\n",
    "new_v_velocity = np.random.rand(1, *image_shape)\n",
    "\n",
    "predicted_flow_scenario = model.predict([new_pressure, new_u_velocity, new_v_velocity, new_reynolds_number])\n",
    "input_images = [new_pressure, new_u_velocity, new_v_velocity]\n",
    "plot_input_and_predictions(input_images, predicted_flow_scenario)"
   ]
  },
  {
   "cell_type": "markdown",
   "metadata": {},
   "source": [
    "#### real data"
   ]
  },
  {
   "cell_type": "code",
   "execution_count": null,
   "metadata": {},
   "outputs": [],
   "source": [
    "from PIL import Image\n",
    "import numpy as np\n",
    "import numpy as np\n",
    "import tensorflow as tf\n",
    "from tensorflow.keras import layers, models\n",
    "import matplotlib.pyplot as plt"
   ]
  },
  {
   "cell_type": "code",
   "execution_count": null,
   "metadata": {},
   "outputs": [],
   "source": [
    "def create_model(input_shape, num_outputs):\n",
    "    # Define input layers\n",
    "    pressure_input = layers.Input(shape=input_shape, name='pressure_input')\n",
    "    u_velocity_input = layers.Input(shape=input_shape, name='u_velocity_input')\n",
    "    v_velocity_input = layers.Input(shape=input_shape, name='v_velocity_input')\n",
    "    reynolds_input = layers.Input(shape=(1,), name='reynolds_input')\n",
    "\n",
    "    # Stack input layers\n",
    "    reynolds_input_reshaped = layers.Reshape((1, 1, 1))(reynolds_input)\n",
    "    reynolds_input_tiled = layers.UpSampling2D(size=(input_shape[0], input_shape[1]))(reynolds_input_reshaped)\n",
    "\n",
    "    combined_input = layers.concatenate([pressure_input, u_velocity_input, v_velocity_input, reynolds_input_tiled], axis=-1)\n",
    "\n",
    "    # Common CNN layers\n",
    "    x = layers.Conv2D(32, (3, 3), activation='relu')(combined_input)\n",
    "    x = layers.MaxPooling2D((2, 2))(x)\n",
    "    x = layers.Conv2D(64, (3, 3), activation='relu')(x)\n",
    "    x = layers.MaxPooling2D((2, 2))(x)\n",
    "    x = layers.Conv2D(64, (3, 3), activation='relu')(x)\n",
    "    x = layers.Flatten()(x)\n",
    "    x = layers.Dense(64, activation='relu')(x)\n",
    "\n",
    "    # Output layers\n",
    "    outputs = []\n",
    "    for i in range(num_outputs):\n",
    "        outputs.append(layers.Dense(input_shape[0]*input_shape[1], activation='sigmoid', name=f'output_{i}')(x))\n",
    "\n",
    "    # Reshape outputs to image size\n",
    "    reshaped_outputs = [layers.Reshape((input_shape[0], input_shape[1], 1), name=f'reshaped_output_{i}')(output) for i, output in enumerate(outputs)]\n",
    "\n",
    "    # Define model\n",
    "    model = models.Model(inputs=[pressure_input, u_velocity_input, v_velocity_input, reynolds_input], outputs=reshaped_outputs)\n",
    "    return model"
   ]
  },
  {
   "cell_type": "code",
   "execution_count": null,
   "metadata": {},
   "outputs": [
    {
     "data": {
      "text/plain": [
       "200"
      ]
     },
     "execution_count": 19,
     "metadata": {},
     "output_type": "execute_result"
    }
   ],
   "source": [
    "RE = 100.0\n",
    "path = f'data/{RE}'\n",
    "image_shape = (128, 128, 4)\n",
    "input_pressure = []\n",
    "input_u_velocity = []\n",
    "input_v_velocity = []\n",
    "for x in np.arange(0, 10, 0.05):\n",
    "    input_pressure.append(np.array(Image.open(f'{path}/p_{x:.2f}.png')))\n",
    "    input_u_velocity.append(np.array(Image.open(f'{path}/u_{x:.2f}.png')))\n",
    "    input_v_velocity.append(np.array(Image.open(f'{path}/v_{x:.2f}.png')))\n",
    "input_pressure = np.array(input_pressure)\n",
    "input_u_velocity = np.array(input_u_velocity)\n",
    "input_v_velocity = np.array(input_v_velocity)\n",
    "num_samples = len(input_pressure)\n",
    "input_reynolds = [RE] * num_samples\n",
    "input_reynolds = np.array(input_reynolds).reshape(num_samples, 1)\n",
    "num_samples"
   ]
  },
  {
   "cell_type": "code",
   "execution_count": null,
   "metadata": {},
   "outputs": [
    {
     "data": {
      "image/png": "[encoded data removed]",
      "text/plain": [
       "<Figure size 1500x500 with 3 Axes>"
      ]
     },
     "metadata": {},
     "output_type": "display_data"
    }
   ],
   "source": [
    "fig, axes = plt.subplots(1, 3, figsize=(15, 5))\n",
    "axes[0].imshow(input_pressure[0])\n",
    "axes[0].set_title('Pressure')\n",
    "axes[1].imshow(input_u_velocity[0])\n",
    "axes[1].set_title('U Velocity')\n",
    "axes[2].imshow(input_v_velocity[0])\n",
    "axes[2].set_title('V Velocity')\n",
    "plt.show()"
   ]
  },
  {
   "cell_type": "code",
   "execution_count": null,
   "metadata": {},
   "outputs": [
    {
     "name": "stdout",
     "output_type": "stream",
     "text": [
      "Epoch 1/10\n",
      "\u001b[1m5/5\u001b[0m \u001b[32m━━━━━━━━━━━━━━━━━━━━\u001b[0m\u001b[37m\u001b[0m \u001b[1m3s\u001b[0m 261ms/step - loss: 76650.5781 - val_loss: 76947.6328\n",
      "Epoch 2/10\n",
      "\u001b[1m5/5\u001b[0m \u001b[32m━━━━━━━━━━━━━━━━━━━━\u001b[0m\u001b[37m\u001b[0m \u001b[1m1s\u001b[0m 204ms/step - loss: 76453.6172 - val_loss: 76884.2891\n",
      "Epoch 3/10\n",
      "\u001b[1m5/5\u001b[0m \u001b[32m━━━━━━━━━━━━━━━━━━━━\u001b[0m\u001b[37m\u001b[0m \u001b[1m1s\u001b[0m 205ms/step - loss: 76430.0078 - val_loss: 76860.8516\n",
      "Epoch 4/10\n",
      "\u001b[1m5/5\u001b[0m \u001b[32m━━━━━━━━━━━━━━━━━━━━\u001b[0m\u001b[37m\u001b[0m \u001b[1m1s\u001b[0m 205ms/step - loss: 76379.6172 - val_loss: 76848.6797\n",
      "Epoch 5/10\n",
      "\u001b[1m5/5\u001b[0m \u001b[32m━━━━━━━━━━━━━━━━━━━━\u001b[0m\u001b[37m\u001b[0m \u001b[1m1s\u001b[0m 205ms/step - loss: 76423.2578 - val_loss: 76842.2812\n",
      "Epoch 6/10\n",
      "\u001b[1m5/5\u001b[0m \u001b[32m━━━━━━━━━━━━━━━━━━━━\u001b[0m\u001b[37m\u001b[0m \u001b[1m1s\u001b[0m 200ms/step - loss: 76346.3672 - val_loss: 76839.6562\n",
      "Epoch 7/10\n",
      "\u001b[1m5/5\u001b[0m \u001b[32m━━━━━━━━━━━━━━━━━━━━\u001b[0m\u001b[37m\u001b[0m \u001b[1m1s\u001b[0m 207ms/step - loss: 76387.2109 - val_loss: 76838.0391\n",
      "Epoch 8/10\n",
      "\u001b[1m5/5\u001b[0m \u001b[32m━━━━━━━━━━━━━━━━━━━━\u001b[0m\u001b[37m\u001b[0m \u001b[1m1s\u001b[0m 204ms/step - loss: 76384.2969 - val_loss: 76836.3828\n",
      "Epoch 9/10\n",
      "\u001b[1m5/5\u001b[0m \u001b[32m━━━━━━━━━━━━━━━━━━━━\u001b[0m\u001b[37m\u001b[0m \u001b[1m1s\u001b[0m 204ms/step - loss: 76391.8516 - val_loss: 76835.0781\n",
      "Epoch 10/10\n",
      "\u001b[1m5/5\u001b[0m \u001b[32m━━━━━━━━━━━━━━━━━━━━\u001b[0m\u001b[37m\u001b[0m \u001b[1m1s\u001b[0m 207ms/step - loss: 76406.9375 - val_loss: 76833.6328\n"
     ]
    },
    {
     "data": {
      "text/plain": [
       "<keras.src.callbacks.history.History at 0x21fa5526f00>"
      ]
     },
     "execution_count": 21,
     "metadata": {},
     "output_type": "execute_result"
    }
   ],
   "source": [
    "output_data = [input_pressure, input_u_velocity, input_v_velocity]\n",
    "num_outputs = len(output_data)\n",
    "\n",
    "# Create and compile the model\n",
    "model = create_model(image_shape, num_outputs)\n",
    "model.compile(optimizer='adam', loss='mse')\n",
    "\n",
    "# Train the model\n",
    "model.fit([input_pressure, input_u_velocity, input_v_velocity, input_reynolds], output_data, epochs=10, batch_size=32, validation_split=0.2)"
   ]
  },
  {
   "cell_type": "code",
   "execution_count": null,
   "metadata": {},
   "outputs": [],
   "source": [
    "import matplotlib.pyplot as plt\n",
    "\n",
    "# Function to plot input images and predicted flow scenarios\n",
    "def plot_input_and_predictions(input_images, predicted_flow_scenarios):\n",
    "    fig, axes = plt.subplots(2, 3, figsize=(15, 10))\n",
    "\n",
    "    # Plot input images\n",
    "    titles = ['Pressure', 'U Velocity', 'V Velocity']\n",
    "    for i in range(len(input_images)):\n",
    "        axes[0, i].imshow(input_images[i].squeeze(), cmap='jet')\n",
    "        axes[0, i].set_title(titles[i])\n",
    "        axes[0, i].axis('off')\n",
    "\n",
    "    # Plot predicted flow scenarios\n",
    "    for i, predicted_flow_scenario in enumerate(predicted_flow_scenarios):\n",
    "        axes[1, i].imshow(predicted_flow_scenario.squeeze(), cmap='jet')\n",
    "        axes[1, i].set_title(f'Predicted {titles[i]}')\n",
    "        axes[1, i].axis('off')\n",
    "\n",
    "    plt.tight_layout()\n",
    "    plt.show()"
   ]
  },
  {
   "cell_type": "code",
   "execution_count": 97,
   "metadata": {},
   "outputs": [
    {
     "ename": "AttributeError",
     "evalue": "'LidDrivenCavityModel' object has no attribute 'predict'",
     "output_type": "error",
     "traceback": [
      "\u001b[1;31m---------------------------------------------------------------------------\u001b[0m",
      "\u001b[1;31mAttributeError\u001b[0m                            Traceback (most recent call last)",
      "Cell \u001b[1;32mIn[97], line 7\u001b[0m\n\u001b[0;32m      4\u001b[0m new_u_velocity \u001b[38;5;241m=\u001b[39m input_u_velocity[\u001b[38;5;241m100\u001b[39m]\u001b[38;5;241m.\u001b[39mreshape(\u001b[38;5;241m1\u001b[39m, \u001b[38;5;241m*\u001b[39mimage_shape)\n\u001b[0;32m      5\u001b[0m new_v_velocity \u001b[38;5;241m=\u001b[39m input_v_velocity[\u001b[38;5;241m100\u001b[39m]\u001b[38;5;241m.\u001b[39mreshape(\u001b[38;5;241m1\u001b[39m, \u001b[38;5;241m*\u001b[39mimage_shape)\n\u001b[1;32m----> 7\u001b[0m predicted_flow_scenario \u001b[38;5;241m=\u001b[39m model\u001b[38;5;241m.\u001b[39mpredict([new_pressure, new_u_velocity, new_v_velocity, new_reynolds_number])\n\u001b[0;32m      8\u001b[0m input_images \u001b[38;5;241m=\u001b[39m [new_pressure, new_u_velocity, new_v_velocity]\n\u001b[0;32m      9\u001b[0m plot_input_and_predictions(input_images, predicted_flow_scenario)\n",
      "File \u001b[1;32mc:\\Users\\alexa\\miniconda3\\envs\\ba\\Lib\\site-packages\\torch\\nn\\modules\\module.py:1688\u001b[0m, in \u001b[0;36mModule.__getattr__\u001b[1;34m(self, name)\u001b[0m\n\u001b[0;32m   1686\u001b[0m     \u001b[38;5;28;01mif\u001b[39;00m name \u001b[38;5;129;01min\u001b[39;00m modules:\n\u001b[0;32m   1687\u001b[0m         \u001b[38;5;28;01mreturn\u001b[39;00m modules[name]\n\u001b[1;32m-> 1688\u001b[0m \u001b[38;5;28;01mraise\u001b[39;00m \u001b[38;5;167;01mAttributeError\u001b[39;00m(\u001b[38;5;124mf\u001b[39m\u001b[38;5;124m\"\u001b[39m\u001b[38;5;124m'\u001b[39m\u001b[38;5;132;01m{\u001b[39;00m\u001b[38;5;28mtype\u001b[39m(\u001b[38;5;28mself\u001b[39m)\u001b[38;5;241m.\u001b[39m\u001b[38;5;18m__name__\u001b[39m\u001b[38;5;132;01m}\u001b[39;00m\u001b[38;5;124m'\u001b[39m\u001b[38;5;124m object has no attribute \u001b[39m\u001b[38;5;124m'\u001b[39m\u001b[38;5;132;01m{\u001b[39;00mname\u001b[38;5;132;01m}\u001b[39;00m\u001b[38;5;124m'\u001b[39m\u001b[38;5;124m\"\u001b[39m)\n",
      "\u001b[1;31mAttributeError\u001b[0m: 'LidDrivenCavityModel' object has no attribute 'predict'"
     ]
    }
   ],
   "source": [
    "# Example usage for prediction\n",
    "new_reynolds_number = np.array([[100]])\n",
    "new_pressure = input_pressure[100].reshape(1, *image_shape)\n",
    "new_u_velocity = input_u_velocity[100].reshape(1, *image_shape)\n",
    "new_v_velocity = input_v_velocity[100].reshape(1, *image_shape)\n",
    "\n",
    "predicted_flow_scenario = model.predict([new_pressure, new_u_velocity, new_v_velocity, new_reynolds_number])\n",
    "input_images = [new_pressure, new_u_velocity, new_v_velocity]\n",
    "plot_input_and_predictions(input_images, predicted_flow_scenario)"
   ]
  },
  {
   "cell_type": "markdown",
   "metadata": {},
   "source": [
    "### multi RE"
   ]
  },
  {
   "cell_type": "code",
   "execution_count": 1,
   "metadata": {},
   "outputs": [],
   "source": [
    "from PIL import Image\n",
    "import numpy as np\n",
    "import numpy as np\n",
    "import tensorflow as tf\n",
    "from tensorflow.keras import layers, models\n",
    "import matplotlib.pyplot as plt\n",
    "from tqdm import tqdm"
   ]
  },
  {
   "cell_type": "code",
   "execution_count": 2,
   "metadata": {},
   "outputs": [],
   "source": [
    "def create_model(input_shape, num_outputs):\n",
    "    # Define input layers\n",
    "    pressure_input = layers.Input(shape=input_shape, name='pressure_input')\n",
    "    u_velocity_input = layers.Input(shape=input_shape, name='u_velocity_input')\n",
    "    v_velocity_input = layers.Input(shape=input_shape, name='v_velocity_input')\n",
    "    reynolds_input = layers.Input(shape=(1,), name='reynolds_input')\n",
    "\n",
    "    # Stack input layers\n",
    "    reynolds_input_reshaped = layers.Reshape((1, 1, 1))(reynolds_input)\n",
    "    reynolds_input_tiled = layers.UpSampling2D(size=(input_shape[0], input_shape[1]))(reynolds_input_reshaped)\n",
    "\n",
    "    combined_input = layers.concatenate([pressure_input, u_velocity_input, v_velocity_input, reynolds_input_tiled], axis=-1)\n",
    "\n",
    "    # Common CNN layers\n",
    "    x = layers.Conv2D(32, (3, 3), activation='relu')(combined_input)\n",
    "    x = layers.MaxPooling2D((2, 2))(x)\n",
    "    x = layers.Conv2D(64, (3, 3), activation='relu')(x)\n",
    "    x = layers.MaxPooling2D((2, 2))(x)\n",
    "    x = layers.Conv2D(64, (3, 3), activation='relu')(x)\n",
    "    x = layers.Flatten()(x)\n",
    "    x = layers.Dense(64, activation='relu')(x)\n",
    "\n",
    "    # Output layers\n",
    "    outputs = []\n",
    "    for i in range(num_outputs):\n",
    "        outputs.append(layers.Dense(input_shape[0]*input_shape[1], activation='sigmoid', name=f'output_{i}')(x))\n",
    "\n",
    "    # Reshape outputs to image size\n",
    "    reshaped_outputs = [layers.Reshape((input_shape[0], input_shape[1], 1), name=f'reshaped_output_{i}')(output) for i, output in enumerate(outputs)]\n",
    "\n",
    "    # Define model\n",
    "    model = models.Model(inputs=[pressure_input, u_velocity_input, v_velocity_input, reynolds_input], outputs=reshaped_outputs)\n",
    "    return model"
   ]
  },
  {
   "cell_type": "code",
   "execution_count": 3,
   "metadata": {},
   "outputs": [],
   "source": [
    "REs = np.arange(100., 1000., 5.)\n",
    "paths = [f'data/{RE}' for RE in REs]\n",
    "image_shape = (128, 128, 4)\n",
    "input_pressure = []\n",
    "input_u_velocity = []\n",
    "input_v_velocity = []\n",
    "input_reynolds = []"
   ]
  },
  {
   "cell_type": "code",
   "execution_count": 4,
   "metadata": {},
   "outputs": [
    {
     "name": "stderr",
     "output_type": "stream",
     "text": [
      "100%|██████████| 180/180 [05:25<00:00,  1.81s/it]\n"
     ]
    },
    {
     "data": {
      "text/plain": [
       "35820"
      ]
     },
     "execution_count": 4,
     "metadata": {},
     "output_type": "execute_result"
    }
   ],
   "source": [
    "with tqdm(total=len(paths)) as pbar:\n",
    "    for i, path in enumerate(paths):\n",
    "        for x in np.arange(0.05, 10, 0.05):\n",
    "            input_pressure.append(np.array(Image.open(f'{path}/p_{x:.2f}.png')))\n",
    "            input_u_velocity.append(np.array(Image.open(f'{path}/u_{x:.2f}.png')))\n",
    "            input_v_velocity.append(np.array(Image.open(f'{path}/v_{x:.2f}.png')))\n",
    "            input_reynolds.append([REs[i]])\n",
    "        pbar.update(1)\n",
    "        pbar.set_description(f'Processed t:{REs[i]:.2f}, total samples:{len(input_pressure):3d}')\n",
    "input_pressure = np.array(input_pressure)\n",
    "input_u_velocity = np.array(input_u_velocity)\n",
    "input_v_velocity = np.array(input_v_velocity)\n",
    "input_reynolds = np.array(input_reynolds)\n",
    "\n",
    "num_samples = len(input_pressure)\n",
    "num_samples"
   ]
  },
  {
   "cell_type": "code",
   "execution_count": 10,
   "metadata": {},
   "outputs": [
    {
     "name": "stdout",
     "output_type": "stream",
     "text": [
      "Epoch 1/15\n",
      "\u001b[1m448/448\u001b[0m \u001b[32m━━━━━━━━━━━━━━━━━━━━\u001b[0m\u001b[37m\u001b[0m \u001b[1m161s\u001b[0m 353ms/step - loss: 77233.5938 - val_loss: 76839.0391\n",
      "Epoch 2/15\n",
      "\u001b[1m448/448\u001b[0m \u001b[32m━━━━━━━━━━━━━━━━━━━━\u001b[0m\u001b[37m\u001b[0m \u001b[1m152s\u001b[0m 340ms/step - loss: 77214.1562 - val_loss: 76839.0391\n",
      "Epoch 3/15\n",
      "\u001b[1m448/448\u001b[0m \u001b[32m━━━━━━━━━━━━━━━━━━━━\u001b[0m\u001b[37m\u001b[0m \u001b[1m140s\u001b[0m 312ms/step - loss: 77214.9219 - val_loss: 76839.0391\n",
      "Epoch 4/15\n",
      "\u001b[1m448/448\u001b[0m \u001b[32m━━━━━━━━━━━━━━━━━━━━\u001b[0m\u001b[37m\u001b[0m \u001b[1m150s\u001b[0m 334ms/step - loss: 77220.3125 - val_loss: 76839.0391\n",
      "Epoch 5/15\n",
      "\u001b[1m448/448\u001b[0m \u001b[32m━━━━━━━━━━━━━━━━━━━━\u001b[0m\u001b[37m\u001b[0m \u001b[1m161s\u001b[0m 359ms/step - loss: 77218.9531 - val_loss: 76839.0391\n",
      "Epoch 6/15\n",
      "\u001b[1m448/448\u001b[0m \u001b[32m━━━━━━━━━━━━━━━━━━━━\u001b[0m\u001b[37m\u001b[0m \u001b[1m155s\u001b[0m 346ms/step - loss: 77206.6406 - val_loss: 76839.0391\n",
      "Epoch 7/15\n",
      "\u001b[1m448/448\u001b[0m \u001b[32m━━━━━━━━━━━━━━━━━━━━\u001b[0m\u001b[37m\u001b[0m \u001b[1m154s\u001b[0m 345ms/step - loss: 77207.5547 - val_loss: 76839.0391\n",
      "Epoch 8/15\n",
      "\u001b[1m448/448\u001b[0m \u001b[32m━━━━━━━━━━━━━━━━━━━━\u001b[0m\u001b[37m\u001b[0m \u001b[1m154s\u001b[0m 344ms/step - loss: 77213.9219 - val_loss: 76839.0391\n",
      "Epoch 9/15\n",
      "\u001b[1m448/448\u001b[0m \u001b[32m━━━━━━━━━━━━━━━━━━━━\u001b[0m\u001b[37m\u001b[0m \u001b[1m152s\u001b[0m 340ms/step - loss: 77213.6562 - val_loss: 76839.0391\n",
      "Epoch 10/15\n",
      "\u001b[1m448/448\u001b[0m \u001b[32m━━━━━━━━━━━━━━━━━━━━\u001b[0m\u001b[37m\u001b[0m \u001b[1m153s\u001b[0m 340ms/step - loss: 77208.9766 - val_loss: 76839.0391\n",
      "Epoch 11/15\n",
      "\u001b[1m448/448\u001b[0m \u001b[32m━━━━━━━━━━━━━━━━━━━━\u001b[0m\u001b[37m\u001b[0m \u001b[1m152s\u001b[0m 338ms/step - loss: 77215.9375 - val_loss: 76839.0391\n",
      "Epoch 12/15\n",
      "\u001b[1m448/448\u001b[0m \u001b[32m━━━━━━━━━━━━━━━━━━━━\u001b[0m\u001b[37m\u001b[0m \u001b[1m152s\u001b[0m 338ms/step - loss: 77216.2188 - val_loss: 76839.0391\n",
      "Epoch 13/15\n",
      "\u001b[1m448/448\u001b[0m \u001b[32m━━━━━━━━━━━━━━━━━━━━\u001b[0m\u001b[37m\u001b[0m \u001b[1m152s\u001b[0m 339ms/step - loss: 77213.3203 - val_loss: 76839.0391\n",
      "Epoch 14/15\n",
      "\u001b[1m448/448\u001b[0m \u001b[32m━━━━━━━━━━━━━━━━━━━━\u001b[0m\u001b[37m\u001b[0m \u001b[1m152s\u001b[0m 339ms/step - loss: 77213.9922 - val_loss: 76839.0391\n",
      "Epoch 15/15\n",
      "\u001b[1m448/448\u001b[0m \u001b[32m━━━━━━━━━━━━━━━━━━━━\u001b[0m\u001b[37m\u001b[0m \u001b[1m153s\u001b[0m 341ms/step - loss: 77216.1406 - val_loss: 76839.0391\n"
     ]
    }
   ],
   "source": [
    "output_data = [input_pressure, input_u_velocity, input_v_velocity]\n",
    "num_outputs = len(output_data)\n",
    "\n",
    "# Create and compile the model\n",
    "model = create_model(image_shape, num_outputs)\n",
    "# use l1 loss\n",
    "model.compile(optimizer='adam', loss='mse')\n",
    "\n",
    "epochs = 15\n",
    "batch_size = 64\n",
    "\n",
    "# Train the model\n",
    "history = model.fit([input_pressure, input_u_velocity, input_v_velocity, input_reynolds], output_data, epochs=epochs, batch_size=batch_size, validation_split=0.2)"
   ]
  },
  {
   "cell_type": "code",
   "execution_count": 11,
   "metadata": {},
   "outputs": [
    {
     "data": {
      "image/png": "[encoded data removed]",
      "text/plain": [
       "<Figure size 640x480 with 1 Axes>"
      ]
     },
     "metadata": {},
     "output_type": "display_data"
    }
   ],
   "source": [
    "# plot the history\n",
    "plt.plot(history.history['loss'], label='train')\n",
    "plt.plot(history.history['val_loss'], label='validation')\n",
    "plt.legend()\n",
    "plt.show()"
   ]
  },
  {
   "cell_type": "code",
   "execution_count": 12,
   "metadata": {},
   "outputs": [],
   "source": [
    "import matplotlib.pyplot as plt\n",
    "\n",
    "# Function to plot input images and predicted flow scenarios\n",
    "def plot_input_and_predictions(input_images, predicted_flow_scenarios):\n",
    "    fig, axes = plt.subplots(2, 3, figsize=(15, 10))\n",
    "\n",
    "    # Plot input images\n",
    "    titles = ['Pressure', 'U Velocity', 'V Velocity']\n",
    "    for i in range(len(input_images)):\n",
    "        axes[0, i].imshow(input_images[i].squeeze(), cmap='jet')\n",
    "        axes[0, i].set_title(titles[i])\n",
    "        axes[0, i].axis('off')\n",
    "\n",
    "    # Plot predicted flow scenarios\n",
    "    for i, predicted_flow_scenario in enumerate(predicted_flow_scenarios):\n",
    "        axes[1, i].imshow(predicted_flow_scenario.squeeze(), cmap='jet')\n",
    "        axes[1, i].set_title(f'Predicted {titles[i]}')\n",
    "        axes[1, i].axis('off')\n",
    "\n",
    "    plt.tight_layout()\n",
    "    plt.show()"
   ]
  },
  {
   "cell_type": "code",
   "execution_count": 13,
   "metadata": {},
   "outputs": [
    {
     "name": "stdout",
     "output_type": "stream",
     "text": [
      "\u001b[1m1/1\u001b[0m \u001b[32m━━━━━━━━━━━━━━━━━━━━\u001b[0m\u001b[37m\u001b[0m \u001b[1m0s\u001b[0m 158ms/step\n"
     ]
    },
    {
     "data": {
      "image/png": "[encoded data removed]",
      "text/plain": [
       "<Figure size 1500x1000 with 6 Axes>"
      ]
     },
     "metadata": {},
     "output_type": "display_data"
    }
   ],
   "source": [
    "# Example usage for prediction\n",
    "new_reynolds_number = np.array([[100]])\n",
    "new_pressure = input_pressure[0].reshape(1, *image_shape)\n",
    "new_u_velocity = input_u_velocity[0].reshape(1, *image_shape)\n",
    "new_v_velocity = input_v_velocity[0].reshape(1, *image_shape)\n",
    "\n",
    "predicted_flow_scenario = model.predict([new_pressure, new_u_velocity, new_v_velocity, new_reynolds_number])\n",
    "input_images = [new_pressure, new_u_velocity, new_v_velocity]\n",
    "plot_input_and_predictions(input_images, predicted_flow_scenario)"
   ]
  }
 ],
 "metadata": {
  "kernelspec": {
   "display_name": "ba",
   "language": "python",
   "name": "python3"
  },
  "language_info": {
   "codemirror_mode": {
    "name": "ipython",
    "version": 3
   },
   "file_extension": ".py",
   "mimetype": "text/x-python",
   "name": "python",
   "nbconvert_exporter": "python",
   "pygments_lexer": "ipython3",
   "version": "3.12.2"
  }
 },
 "nbformat": 4,
 "nbformat_minor": 2
}
