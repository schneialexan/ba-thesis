{
 "cells": [
  {
   "cell_type": "markdown",
   "metadata": {},
   "source": [
    "Goal:\n",
    "\n",
    "Testing PyTorch with u-net architecture from Thurey et al.\n",
    "\n",
    "The bachelor thesis deals with incompressible flows, as they occur in a variety of industrial applications and environmentally relevant problems. The solution of the Navier-Stokes equations requires a considerable amount of time and computational effort. The aim of the work is to train a deep learning network using \"real\" simulation results of various flow scenarios so that the results can be predicted by the network for new scenarios (e.g. with alternative geometries, boundary conditions or Reynolds numbers). To categorise the quality achieved, the predicted results are to be compared with the calculated results from a flow code.\n",
    "For this purpose, it should also be evaluated which scenarios, i.e. which changes (geometry, boundary conditions, flow parameters) can be predicted particularly well and which cannot."
   ]
  },
  {
   "cell_type": "code",
   "execution_count": 1,
   "metadata": {},
   "outputs": [],
   "source": [
    "import torch\n",
    "import torch.nn as nn\n",
    "import torch.nn.functional as F\n",
    "import torch.optim as optim\n",
    "import numpy as np\n",
    "\n",
    "from torch.utils.data import DataLoader, TensorDataset\n",
    "from sklearn.model_selection import train_test_split\n",
    "\n",
    "from tqdm import tqdm\n",
    "from PIL import Image"
   ]
  },
  {
   "cell_type": "code",
   "execution_count": null,
   "metadata": {},
   "outputs": [],
   "source": []
  }
 ],
 "metadata": {
  "kernelspec": {
   "display_name": "ba",
   "language": "python",
   "name": "python3"
  },
  "language_info": {
   "codemirror_mode": {
    "name": "ipython",
    "version": 3
   },
   "file_extension": ".py",
   "mimetype": "text/x-python",
   "name": "python",
   "nbconvert_exporter": "python",
   "pygments_lexer": "ipython3",
   "version": "3.12.2"
  }
 },
 "nbformat": 4,
 "nbformat_minor": 2
}
