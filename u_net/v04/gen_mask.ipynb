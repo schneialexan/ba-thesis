{
 "cells": [
  {
   "cell_type": "code",
   "execution_count": 42,
   "metadata": {},
   "outputs": [],
   "source": [
    "import numpy as np\n",
    "import matplotlib.pyplot as plt\n",
    "from matplotlib import cm"
   ]
  },
  {
   "cell_type": "code",
   "execution_count": 43,
   "metadata": {},
   "outputs": [],
   "source": [
    "def gen_mask(Re):\n",
    "    '''\n",
    "    Generate mask for a given Reynolds number.\n",
    "    The Borders are set to 1, the rest to 0.\n",
    "    The 0 values are then encoded by the Re number (from 0 to 1, while the Re from 100 to 4000)\n",
    "    '''\n",
    "    mask = np.zeros((128, 128))\n",
    "    encoded_Re = (Re - 100) / 3900\n",
    "    mask[:, :] = encoded_Re\n",
    "    mask[-1, :] = mask[:, 0] = mask[:, -1] = 1\n",
    "    return mask"
   ]
  },
  {
   "cell_type": "code",
   "execution_count": 44,
   "metadata": {},
   "outputs": [
    {
     "data": {
      "image/png": "[encoded data removed]",
      "text/plain": [
       "<Figure size 640x480 with 2 Axes>"
      ]
     },
     "metadata": {},
     "output_type": "display_data"
    }
   ],
   "source": [
    "fig = plt.figure()\n",
    "ax = fig.add_subplot(111)\n",
    "colorbar = cm.ScalarMappable(cmap='gray')\n",
    "test = plt.imshow(gen_mask(1500), cmap='gray', vmin=0, vmax=1)\n",
    "plt.colorbar(test, ax=ax)\n",
    "plt.show()"
   ]
  },
  {
   "cell_type": "code",
   "execution_count": 45,
   "metadata": {},
   "outputs": [
    {
     "name": "stdout",
     "output_type": "stream",
     "text": [
      "LR: 0.0006\n",
      "LR decay: True\n",
      "Dropout: 0.0\n",
      "Random seed: 4053742116\n",
      "\n",
      "Setting up model...\n",
      "Loaded model: model successfully!\n"
     ]
    }
   ],
   "source": [
    "from UNet import UNet\n",
    "import utils\n",
    "\n",
    "import os, sys, random, tqdm\n",
    "import numpy as np\n",
    "import torch\n",
    "import torch.nn as nn\n",
    "import torch.optim as optim\n",
    "\n",
    "from UNet import UNet, weights_init\n",
    "import dataset\n",
    "import utils\n",
    "import matplotlib.pyplot as plt\n",
    "\n",
    "######## Settings ########\n",
    "# learning rate, generator\n",
    "lrG = 0.0006\n",
    "# decay learning rate?\n",
    "decayLr = True\n",
    "# channel exponent to control network size\n",
    "expo = 3\n",
    "# data set config\n",
    "prop=None # by default, use all from \"../data/train\"\n",
    "#prop=[1000,0.75,0,0.25] # mix data from multiple directories\n",
    "# save txt files with per epoch loss?\n",
    "saveL1 = False\n",
    "\n",
    "##########################\n",
    "\n",
    "dropout    = 0.      # note, the original runs from https://arxiv.org/abs/1810.08217 used slight dropout, but the effect is minimal; conv layers \"shouldn't need\" dropout, hence set to 0 here.\n",
    "doLoad     = \"model\"      # optional, path to pre-trained model\n",
    "\n",
    "print(\"LR: {}\".format(lrG))\n",
    "print(\"LR decay: {}\".format(decayLr))\n",
    "print(\"Dropout: {}\".format(dropout))\n",
    "\n",
    "##########################\n",
    "\n",
    "seed = random.randint(0, 2**32 - 1)\n",
    "print(\"Random seed: {}\".format(seed))\n",
    "random.seed(seed)\n",
    "np.random.seed(seed)\n",
    "torch.manual_seed(seed)\n",
    "\n",
    "######## Setup ########\n",
    "print(\"\\nSetting up model...\")\n",
    "model = UNet(channelExponent=expo, dropout=dropout)\n",
    "if len(doLoad)>0:\n",
    "    model.load_state_dict(torch.load(doLoad))\n",
    "    print(\"Loaded model: \"+doLoad + \" successfully!\")\n",
    "    \n",
    "# loss function\n",
    "criterion = nn.L1Loss()\n",
    "optimizer = optim.Adam(model.parameters(), lr=lrG, betas=(0.5, 0.999), weight_decay=0.0)\n"
   ]
  },
  {
   "cell_type": "code",
   "execution_count": 52,
   "metadata": {},
   "outputs": [
    {
     "name": "stdout",
     "output_type": "stream",
     "text": [
      "Input mask middle value:  0.88461536\n",
      "L1 Loss:  36.50450897216797\n",
      "Input shape:  torch.Size([3, 128, 128])\n",
      "Output shape:  torch.Size([3, 128, 128])\n",
      "Target shape:  torch.Size([3, 128, 128])\n"
     ]
    }
   ],
   "source": [
    "# get a sample input\n",
    "Re = 3550.\n",
    "ts = 0.5\n",
    "\n",
    "input_mask = dataset.gen_mask(Re, 128)\n",
    "print(\"Input mask middle value: \", input_mask[64, 64])\n",
    "input_u = dataset.open_image(f\"../../data/{Re:.1f}/u_{ts:.2f}.png\")\n",
    "input_v = dataset.open_image(f\"../../data/{Re:.1f}/v_{ts:.2f}.png\")\n",
    "\n",
    "input = np.stack([input_mask, input_u[0], input_v[0]], axis=0)\n",
    "input = torch.from_numpy(input).float().unsqueeze(0)\n",
    "\n",
    "target_p = dataset.open_image(f\"../../data/{Re:.1f}/p_ss.png\")\n",
    "target_u = dataset.open_image(f\"../../data/{Re:.1f}/u_ss.png\")\n",
    "target_v = dataset.open_image(f\"../../data/{Re:.1f}/v_ss.png\")\n",
    "\n",
    "target = np.stack([target_p[0], target_u[0], target_v[0]], axis=0)\n",
    "target = torch.from_numpy(target).float().unsqueeze(0)\n",
    "\n",
    "# predict the output\n",
    "output = model(input)\n",
    "l1_loss = criterion(output, target)\n",
    "print(\"L1 Loss: \", l1_loss.item())\n",
    "\n",
    "print(\"Input shape: \", input[0].shape)\n",
    "print(\"Output shape: \", output[0].shape)\n",
    "print(\"Target shape: \", target[0].shape)\n",
    "\n",
    "# plot the input and output\n",
    "input_norm = utils.normalize(input[0].numpy()\n",
    "target_norm = utils.normalize(target[0].numpy())\n",
    "output_norm = utils.normalize(output[0].detach().numpy())"
   ]
  },
  {
   "cell_type": "code",
   "execution_count": 56,
   "metadata": {},
   "outputs": [],
   "source": [
    "input_mask = input[0]"
   ]
  },
  {
   "cell_type": "code",
   "execution_count": 55,
   "metadata": {},
   "outputs": [
    {
     "name": "stdout",
     "output_type": "stream",
     "text": [
      "Original Re:  113.52941\n"
     ]
    }
   ],
   "source": [
    "# remap the input to the original Re number\n",
    "original_input_mask = input_mask * 3900 + 100\n",
    "middle = len(original_input_mask) // 2\n",
    "original_Re = original_input_mask[middle, middle]\n",
    "print(\"Original Re: \", original_Re)"
   ]
  },
  {
   "cell_type": "code",
   "execution_count": 51,
   "metadata": {},
   "outputs": [
    {
     "data": {
      "text/plain": [
       "0.8846153846153846"
      ]
     },
     "execution_count": 51,
     "metadata": {},
     "output_type": "execute_result"
    }
   ],
   "source": [
    "(3550 - 100) / 3900"
   ]
  },
  {
   "cell_type": "code",
   "execution_count": null,
   "metadata": {},
   "outputs": [],
   "source": []
  }
 ],
 "metadata": {
  "kernelspec": {
   "display_name": "ba",
   "language": "python",
   "name": "python3"
  },
  "language_info": {
   "codemirror_mode": {
    "name": "ipython",
    "version": 3
   },
   "file_extension": ".py",
   "mimetype": "text/x-python",
   "name": "python",
   "nbconvert_exporter": "python",
   "pygments_lexer": "ipython3",
   "version": "3.12.2"
  }
 },
 "nbformat": 4,
 "nbformat_minor": 2
}
