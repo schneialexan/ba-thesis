{
 "cells": [
  {
   "cell_type": "markdown",
   "metadata": {},
   "source": [
    "#### Test how much time the model needs to load etc."
   ]
  },
  {
   "cell_type": "code",
   "execution_count": 1,
   "metadata": {},
   "outputs": [
    {
     "name": "stdout",
     "output_type": "stream",
     "text": [
      "Best config: Unnamed: 0                                      41\n",
      "number                                          41\n",
      "value                                   164.608483\n",
      "datetime_start          2024-04-26 14:14:22.002018\n",
      "datetime_complete       2024-04-26 14:50:50.335207\n",
      "duration                    0 days 00:36:28.333189\n",
      "params_beta1                              0.888613\n",
      "params_beta2                              0.701557\n",
      "params_hidden_dim                               99\n",
      "params_kernel_size                               5\n",
      "params_learning_rate                       0.00819\n",
      "params_num_layers                                1\n",
      "params_weight_decay                       0.000003\n",
      "state                                     COMPLETE\n",
      "Name: 41, dtype: object\n"
     ]
    }
   ],
   "source": [
    "import pandas as pd\n",
    "config = pd.read_csv('conv_lstm_study.csv')\n",
    "config = config.loc[config['value'].idxmin()]\n",
    "\n",
    "num_layers = config['params_num_layers']\n",
    "hidden_dim = config['params_hidden_dim']\n",
    "num_layers = config['params_num_layers']\n",
    "hidden_dim = config['params_hidden_dim']\n",
    "kernel_size = config['params_kernel_size']\n",
    "\n",
    "print(f'Best config: {config}')"
   ]
  },
  {
   "cell_type": "code",
   "execution_count": 2,
   "metadata": {},
   "outputs": [],
   "source": [
    "import torch\n",
    "from model import ConvLSTM\n",
    "    \n",
    "def load_model():\n",
    "    model = ConvLSTM(3, 99, 3, 5, 1, True, True, False).to(device)\n",
    "    model_path = 'final_convlstm_model.pth'\n",
    "    device = torch.device('cuda' if torch.cuda.is_available() else 'cpu')\n",
    "    input_size = (3, 128, 128)\n",
    "\n",
    "    model = ConvLSTM(input_dim=input_size[0], \n",
    "                    hidden_dim=[64, 128, 3], \n",
    "                    kernel_size=[(3,3)]*3, \n",
    "                    num_layers=3).to(device)\n",
    "    model.load_state_dict(torch.load(model_path))\n",
    "    return model"
   ]
  },
  {
   "cell_type": "code",
   "execution_count": null,
   "metadata": {},
   "outputs": [],
   "source": [
    "%timeit -n 100 -r 100 load_model()"
   ]
  },
  {
   "cell_type": "code",
   "execution_count": null,
   "metadata": {},
   "outputs": [],
   "source": [
    "import torch\n",
    "model = load_model()\n",
    "device = torch.device('cuda' if torch.cuda.is_available() else 'cpu')\n",
    "image = torch.rand(1, 3, 128, 128).to(device)\n",
    "\n",
    "def predict_once(image):\n",
    "    return model(image)"
   ]
  },
  {
   "cell_type": "code",
   "execution_count": null,
   "metadata": {},
   "outputs": [],
   "source": [
    "%timeit -n 100 -r 100 predict_once(image)"
   ]
  },
  {
   "cell_type": "code",
   "execution_count": null,
   "metadata": {},
   "outputs": [],
   "source": []
  }
 ],
 "metadata": {
  "kernelspec": {
   "display_name": "ba",
   "language": "python",
   "name": "python3"
  },
  "language_info": {
   "codemirror_mode": {
    "name": "ipython",
    "version": 3
   },
   "file_extension": ".py",
   "mimetype": "text/x-python",
   "name": "python",
   "nbconvert_exporter": "python",
   "pygments_lexer": "ipython3",
   "version": "3.12.3"
  }
 },
 "nbformat": 4,
 "nbformat_minor": 2
}
