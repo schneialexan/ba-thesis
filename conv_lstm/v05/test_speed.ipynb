{
 "cells": [
  {
   "cell_type": "markdown",
   "metadata": {},
   "source": [
    "#### Test how much time the model needs to load etc."
   ]
  },
  {
   "cell_type": "code",
   "execution_count": 1,
   "metadata": {},
   "outputs": [],
   "source": [
    "import torch\n",
    "from model import ConvLSTM"
   ]
  },
  {
   "cell_type": "code",
   "execution_count": 2,
   "metadata": {},
   "outputs": [],
   "source": [
    "def load_model_with_imports():\n",
    "    model_path = 'final_convlstm_model.pth'\n",
    "    device = torch.device('cuda' if torch.cuda.is_available() else 'cpu')\n",
    "    hidden_dim = [128, 128, 128, 32]\n",
    "    model = ConvLSTM(input_dim=3,       # 3 input channels (for p, u, v)\n",
    "                    hidden_dim=hidden_dim, \n",
    "                    input_seq=1,       # only 1 image in the sequence\n",
    "                    kernel_size=[(7,7)]*len(hidden_dim), \n",
    "                    num_layers=len(hidden_dim),).to(device)\n",
    "    model.load_state_dict(torch.load(model_path))\n",
    "    return model"
   ]
  },
  {
   "cell_type": "code",
   "execution_count": 3,
   "metadata": {},
   "outputs": [
    {
     "name": "stdout",
     "output_type": "stream",
     "text": [
      "124 ms ± 13.4 ms per loop (mean ± std. dev. of 10 runs, 10 loops each)\n"
     ]
    }
   ],
   "source": [
    "# takes almost 30 mins to run\n",
    "%timeit -n 10 -r 10 load_model_with_imports()"
   ]
  },
  {
   "cell_type": "code",
   "execution_count": 4,
   "metadata": {},
   "outputs": [],
   "source": [
    "model = load_model_with_imports()\n",
    "device = torch.device('cuda' if torch.cuda.is_available() else 'cpu')\n",
    "image = torch.rand(1, 1, 3, 128, 128).to(device)\n",
    "\n",
    "def predict_once(image):\n",
    "    return model(image)"
   ]
  },
  {
   "cell_type": "code",
   "execution_count": 7,
   "metadata": {},
   "outputs": [
    {
     "name": "stdout",
     "output_type": "stream",
     "text": [
      "11.8 ms ± 2.7 ms per loop (mean ± std. dev. of 100 runs, 100 loops each)\n"
     ]
    }
   ],
   "source": [
    "%timeit -n 100 -r 100 predict_once(image)"
   ]
  }
 ],
 "metadata": {
  "kernelspec": {
   "display_name": "ba",
   "language": "python",
   "name": "python3"
  },
  "language_info": {
   "codemirror_mode": {
    "name": "ipython",
    "version": 3
   },
   "file_extension": ".py",
   "mimetype": "text/x-python",
   "name": "python",
   "nbconvert_exporter": "python",
   "pygments_lexer": "ipython3",
   "version": "3.12.3"
  }
 },
 "nbformat": 4,
 "nbformat_minor": 2
}
