{
 "cells": [
  {
   "cell_type": "markdown",
   "metadata": {},
   "source": [
    "#### Test how much time the model needs to load etc."
   ]
  },
  {
   "cell_type": "code",
   "execution_count": 1,
   "metadata": {},
   "outputs": [
    {
     "name": "stdout",
     "output_type": "stream",
     "text": [
      "Best config: num_heads=4, hidden_dim=128, num_layers=2\n"
     ]
    }
   ],
   "source": [
    "import pandas as pd\n",
    "best_config = pd.read_csv('vit_study.csv')\n",
    "best_config = best_config.loc[best_config['value'].idxmin()]\n",
    "\n",
    "num_heads = best_config['params_num_heads']\n",
    "hidden_dim = best_config['params_hidden_dim']\n",
    "num_layers = best_config['params_num_layers']\n",
    "\n",
    "print(f'Best config: num_heads={num_heads}, hidden_dim={hidden_dim}, num_layers={num_layers}')"
   ]
  },
  {
   "cell_type": "code",
   "execution_count": 2,
   "metadata": {},
   "outputs": [],
   "source": [
    "import torch\n",
    "from model import FlowTransformer"
   ]
  },
  {
   "cell_type": "code",
   "execution_count": 3,
   "metadata": {},
   "outputs": [],
   "source": [
    "def load_model_with_imports():\n",
    "    model_path = 'final_vit_model.pth'\n",
    "    device = torch.device('cuda' if torch.cuda.is_available() else 'cpu')\n",
    "    input_size = (3, 128, 128)\n",
    "    output_size = (3, 128, 128)\n",
    "    model = FlowTransformer(input_size=input_size,\n",
    "                            output_size=output_size,\n",
    "                            num_heads=4,\n",
    "                            hidden_dim=128,\n",
    "                            num_layers=2).to(device)\n",
    "    model.load_state_dict(torch.load(model_path))\n",
    "    return model"
   ]
  },
  {
   "cell_type": "code",
   "execution_count": 4,
   "metadata": {},
   "outputs": [
    {
     "name": "stdout",
     "output_type": "stream",
     "text": [
      "166 ms ± 31.3 ms per loop (mean ± std. dev. of 10 runs, 10 loops each)\n"
     ]
    }
   ],
   "source": [
    "# takes almost 30 mins to run\n",
    "%timeit -n 10 -r 10 load_model_with_imports()"
   ]
  },
  {
   "cell_type": "code",
   "execution_count": 5,
   "metadata": {},
   "outputs": [],
   "source": [
    "model = load_model_with_imports()\n",
    "device = torch.device('cuda' if torch.cuda.is_available() else 'cpu')\n",
    "image = torch.rand(1, 3, 128, 128).to(device)\n",
    "\n",
    "def predict_once(image):\n",
    "    return model(image)"
   ]
  },
  {
   "cell_type": "code",
   "execution_count": 6,
   "metadata": {},
   "outputs": [
    {
     "name": "stdout",
     "output_type": "stream",
     "text": [
      "2.14 ms ± 206 µs per loop (mean ± std. dev. of 100 runs, 100 loops each)\n"
     ]
    }
   ],
   "source": [
    "%timeit -n 100 -r 100 predict_once(image)"
   ]
  },
  {
   "cell_type": "markdown",
   "metadata": {},
   "source": [
    "Conclusion:\n",
    "\n",
    "Model Loading average: 150 ms <br>\n",
    "Prediction average: 2 ms"
   ]
  },
  {
   "cell_type": "code",
   "execution_count": null,
   "metadata": {},
   "outputs": [],
   "source": []
  }
 ],
 "metadata": {
  "kernelspec": {
   "display_name": "ba",
   "language": "python",
   "name": "python3"
  },
  "language_info": {
   "codemirror_mode": {
    "name": "ipython",
    "version": 3
   },
   "file_extension": ".py",
   "mimetype": "text/x-python",
   "name": "python",
   "nbconvert_exporter": "python",
   "pygments_lexer": "ipython3",
   "version": "3.12.3"
  }
 },
 "nbformat": 4,
 "nbformat_minor": 2
}
